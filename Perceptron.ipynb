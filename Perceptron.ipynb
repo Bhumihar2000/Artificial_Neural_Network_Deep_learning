{
 "cells": [
  {
   "cell_type": "code",
   "execution_count": 1,
   "id": "16375e12-9c86-4102-b2a0-6b4f3773d7f5",
   "metadata": {},
   "outputs": [],
   "source": [
    "import os\n",
    "import matplotlib.pyplot as plt\n",
    "import pandas as pd\n",
    "import numpy as np\n",
    "import seaborn as sns\n",
    "import joblib\n",
    "from matplotlib.colors import ListedColormap\n",
    "\n",
    "plt.style.use(\"fivethirtyeight\")  ## Optinal Step"
   ]
  },
  {
   "cell_type": "code",
   "execution_count": 18,
   "id": "ff93c16d-b7dc-4e20-9710-253954f5bb5e",
   "metadata": {},
   "outputs": [],
   "source": [
    "class Perceptron():\n",
    "    def __init__(self, eta: float = None, epochs: int = None):\n",
    "        self.weights = np.random.randn(3) * 1e-4 #small random weight\n",
    "        training = (eta is not None) and (epochs is not None)\n",
    "        if training:\n",
    "            print(f\"Initial weights before training: \\n{self.weights}\\n\")\n",
    "        self.eta = eta\n",
    "        self.epochs = epochs\n",
    "        \n",
    "    def _z_outcome(self, inputs, weights):\n",
    "        return np.dot(inputs, weights)\n",
    "\n",
    "\n",
    "    def activation_function(self, z):\n",
    "        return np.where(z > 0, 1, 0)\n",
    "\n",
    "\n",
    "    def fit(self, X,y):\n",
    "        self.X = X\n",
    "        self.y = y\n",
    "\n",
    "        X_with_bias = np.c_[self.X, -np.ones((len(self.X), 1))]\n",
    "        print(f\"X with bias: \\n{X_with_bias}\")\n",
    "\n",
    "        for epoch in range(self.epochs):\n",
    "            print(\"--\"*10)\n",
    "            print(f\"for epoch >> {epoch}\")\n",
    "            print(\"--\"*10)\n",
    "\n",
    "        z = self._z_outcome(X_with_bias, self.weights)\n",
    "        y_hat = self.activation_function(z)\n",
    "        print(f\"predicted value after forward pass: \\n{y_hat}\")\n",
    "\n",
    "        self.error = self.y - y_hat\n",
    "        print(f\"error: \\n{self.error}\")\n",
    "\n",
    "        self.weights = self.weights + self.eta * np.dot(X_with_bias.T, self.error)\n",
    "        print(f\"updated weights after epoch: {epoch + 1}/{self.epochs}: \\n{self.weights}\")\n",
    "        print(\"##\"*10)\n",
    "\n",
    "\n",
    "    def predict(self, X):\n",
    "        X_with_bias = np.c_[X, -np.ones((len(X), 1))]\n",
    "        z = self._z_outcome(X_with_bias, self.weights)\n",
    "        return self.activation_function(z)\n",
    "\n",
    "\n",
    "    def total_loss(self):\n",
    "        total_loss = np.sum(self.error)\n",
    "        print(f\"\\ntotal loss: {total_loss}\\n\")\n",
    "        return total_loss\n",
    "\n",
    "\n",
    "    def _create_dir_return_path(self, model_dir, filename):\n",
    "        os.makedirs(model_dir, exist_ok = True)\n",
    "        return os.path.join(model_dir, filename)\n",
    "\n",
    "\n",
    "    def save(self, filename, model_dir = None):\n",
    "        if model_dir is not None:\n",
    "            model_file_path = self._create_dir_return_path(model_dir, filename)\n",
    "            joblib.dump(self, model_file_path)\n",
    "\n",
    "        else:\n",
    "            model_file_path = self._create_dir_return_path(\"model\", filename)\n",
    "            joblib.dump(self, model_file_path)\n",
    "\n",
    "\n",
    "    def load(self, filepath):\n",
    "        return joblib.load(filepath)\n",
    "        \n",
    "    "
   ]
  },
  {
   "cell_type": "code",
   "execution_count": 19,
   "id": "a7c892f4-a195-4532-8ac4-ac1b1e5fc7f8",
   "metadata": {},
   "outputs": [],
   "source": [
    "## Prepare the data\n",
    "def prepare_data(df, target_col = \"y\"):\n",
    "    X = df.drop(target_col, axis = 1)\n",
    "\n",
    "    y = df[target_col]\n",
    "\n",
    "    return X, y"
   ]
  },
  {
   "cell_type": "code",
   "execution_count": 20,
   "id": "58e6561d-6f9c-46cb-8eaf-3364cd57ef55",
   "metadata": {},
   "outputs": [
    {
     "data": {
      "text/html": [
       "<div>\n",
       "<style scoped>\n",
       "    .dataframe tbody tr th:only-of-type {\n",
       "        vertical-align: middle;\n",
       "    }\n",
       "\n",
       "    .dataframe tbody tr th {\n",
       "        vertical-align: top;\n",
       "    }\n",
       "\n",
       "    .dataframe thead th {\n",
       "        text-align: right;\n",
       "    }\n",
       "</style>\n",
       "<table border=\"1\" class=\"dataframe\">\n",
       "  <thead>\n",
       "    <tr style=\"text-align: right;\">\n",
       "      <th></th>\n",
       "      <th>x1</th>\n",
       "      <th>x2</th>\n",
       "      <th>y</th>\n",
       "    </tr>\n",
       "  </thead>\n",
       "  <tbody>\n",
       "    <tr>\n",
       "      <th>0</th>\n",
       "      <td>0</td>\n",
       "      <td>0</td>\n",
       "      <td>0</td>\n",
       "    </tr>\n",
       "    <tr>\n",
       "      <th>1</th>\n",
       "      <td>0</td>\n",
       "      <td>1</td>\n",
       "      <td>0</td>\n",
       "    </tr>\n",
       "    <tr>\n",
       "      <th>2</th>\n",
       "      <td>1</td>\n",
       "      <td>0</td>\n",
       "      <td>0</td>\n",
       "    </tr>\n",
       "    <tr>\n",
       "      <th>3</th>\n",
       "      <td>1</td>\n",
       "      <td>1</td>\n",
       "      <td>1</td>\n",
       "    </tr>\n",
       "  </tbody>\n",
       "</table>\n",
       "</div>"
      ],
      "text/plain": [
       "   x1  x2  y\n",
       "0   0   0  0\n",
       "1   0   1  0\n",
       "2   1   0  0\n",
       "3   1   1  1"
      ]
     },
     "execution_count": 20,
     "metadata": {},
     "output_type": "execute_result"
    }
   ],
   "source": [
    "AND = {\n",
    "    \"x1\" : [0,0,1,1],\n",
    "    \"x2\" : [0,1,0,1],\n",
    "    \"y\" : [0,0,0,1]\n",
    "}\n",
    "\n",
    "df_AND = pd.DataFrame(AND)\n",
    "df_AND"
   ]
  },
  {
   "cell_type": "code",
   "execution_count": 38,
   "id": "bffb68e7-5281-45b5-87c1-1b4f5831c72a",
   "metadata": {},
   "outputs": [
    {
     "name": "stdout",
     "output_type": "stream",
     "text": [
      "Initial weights before training: \n",
      "[ 4.04568748e-05 -3.01031110e-04 -1.17081125e-04]\n",
      "\n",
      "X with bias: \n",
      "[[ 0.  0. -1.]\n",
      " [ 0.  1. -1.]\n",
      " [ 1.  0. -1.]\n",
      " [ 1.  1. -1.]]\n",
      "--------------------\n",
      "for epoch >> 0\n",
      "--------------------\n",
      "--------------------\n",
      "for epoch >> 1\n",
      "--------------------\n",
      "--------------------\n",
      "for epoch >> 2\n",
      "--------------------\n",
      "--------------------\n",
      "for epoch >> 3\n",
      "--------------------\n",
      "--------------------\n",
      "for epoch >> 4\n",
      "--------------------\n",
      "--------------------\n",
      "for epoch >> 5\n",
      "--------------------\n",
      "--------------------\n",
      "for epoch >> 6\n",
      "--------------------\n",
      "--------------------\n",
      "for epoch >> 7\n",
      "--------------------\n",
      "--------------------\n",
      "for epoch >> 8\n",
      "--------------------\n",
      "--------------------\n",
      "for epoch >> 9\n",
      "--------------------\n",
      "predicted value after forward pass: \n",
      "[1 0 1 0]\n",
      "error: \n",
      "0   -1\n",
      "1    0\n",
      "2   -1\n",
      "3    1\n",
      "Name: y, dtype: int64\n",
      "updated weights after epoch: 10/10: \n",
      "[4.04568748e-05 9.96989689e-02 9.98829189e-02]\n",
      "####################\n",
      "\n",
      "total loss: -1\n",
      "\n"
     ]
    }
   ],
   "source": [
    "X, y = prepare_data(df_AND)\n",
    "\n",
    "ETA = 0.1\n",
    "EPOCHS = 10\n",
    "\n",
    "model_and = Perceptron(eta = ETA, epochs = EPOCHS)\n",
    "model_and.fit(X,y)\n",
    "\n",
    "_ = model_and.total_loss()"
   ]
  },
  {
   "cell_type": "code",
   "execution_count": 39,
   "id": "5df79021-deff-4b6a-8107-6adc8ec21b46",
   "metadata": {},
   "outputs": [],
   "source": [
    "model_and.save(filename = \"and.model\")"
   ]
  },
  {
   "cell_type": "code",
   "execution_count": 40,
   "id": "3b341487-6e7c-416a-998e-98bde218ca77",
   "metadata": {},
   "outputs": [],
   "source": [
    "reload_model_and = Perceptron().load(filepath = \"model/and.model\")"
   ]
  },
  {
   "cell_type": "code",
   "execution_count": 42,
   "id": "bf84b6e3-3c6d-473c-aaaa-5f1c1f22e609",
   "metadata": {},
   "outputs": [
    {
     "data": {
      "text/plain": [
       "array([0])"
      ]
     },
     "execution_count": 42,
     "metadata": {},
     "output_type": "execute_result"
    }
   ],
   "source": [
    "reload_model_and.predict(X = [[1,1]])"
   ]
  },
  {
   "cell_type": "code",
   "execution_count": 43,
   "id": "e14eec34-631d-409f-bdc1-ee6463d40563",
   "metadata": {},
   "outputs": [
    {
     "data": {
      "text/html": [
       "<div>\n",
       "<style scoped>\n",
       "    .dataframe tbody tr th:only-of-type {\n",
       "        vertical-align: middle;\n",
       "    }\n",
       "\n",
       "    .dataframe tbody tr th {\n",
       "        vertical-align: top;\n",
       "    }\n",
       "\n",
       "    .dataframe thead th {\n",
       "        text-align: right;\n",
       "    }\n",
       "</style>\n",
       "<table border=\"1\" class=\"dataframe\">\n",
       "  <thead>\n",
       "    <tr style=\"text-align: right;\">\n",
       "      <th></th>\n",
       "      <th>x1</th>\n",
       "      <th>x2</th>\n",
       "      <th>y</th>\n",
       "    </tr>\n",
       "  </thead>\n",
       "  <tbody>\n",
       "    <tr>\n",
       "      <th>0</th>\n",
       "      <td>0</td>\n",
       "      <td>0</td>\n",
       "      <td>0</td>\n",
       "    </tr>\n",
       "    <tr>\n",
       "      <th>1</th>\n",
       "      <td>0</td>\n",
       "      <td>1</td>\n",
       "      <td>1</td>\n",
       "    </tr>\n",
       "    <tr>\n",
       "      <th>2</th>\n",
       "      <td>1</td>\n",
       "      <td>0</td>\n",
       "      <td>1</td>\n",
       "    </tr>\n",
       "    <tr>\n",
       "      <th>3</th>\n",
       "      <td>1</td>\n",
       "      <td>1</td>\n",
       "      <td>1</td>\n",
       "    </tr>\n",
       "  </tbody>\n",
       "</table>\n",
       "</div>"
      ],
      "text/plain": [
       "   x1  x2  y\n",
       "0   0   0  0\n",
       "1   0   1  1\n",
       "2   1   0  1\n",
       "3   1   1  1"
      ]
     },
     "execution_count": 43,
     "metadata": {},
     "output_type": "execute_result"
    }
   ],
   "source": [
    "OR = {\n",
    "    \"x1\" : [0,0,1,1],\n",
    "    \"x2\" : [0,1,0,1],\n",
    "    \"y\" : [0,1,1,1]\n",
    "}\n",
    "\n",
    "df_OR = pd.DataFrame(OR)\n",
    "\n",
    "df_OR"
   ]
  },
  {
   "cell_type": "code",
   "execution_count": 46,
   "id": "7f417c2a-f6a2-4796-8d34-46bbaa9a47e1",
   "metadata": {},
   "outputs": [
    {
     "name": "stdout",
     "output_type": "stream",
     "text": [
      "Initial weights before training: \n",
      "[1.43243803e-04 6.64618384e-05 4.03256008e-05]\n",
      "\n",
      "X with bias: \n",
      "[[ 0.  0. -1.]\n",
      " [ 0.  1. -1.]\n",
      " [ 1.  0. -1.]\n",
      " [ 1.  1. -1.]]\n",
      "--------------------\n",
      "for epoch >> 0\n",
      "--------------------\n",
      "--------------------\n",
      "for epoch >> 1\n",
      "--------------------\n",
      "--------------------\n",
      "for epoch >> 2\n",
      "--------------------\n",
      "--------------------\n",
      "for epoch >> 3\n",
      "--------------------\n",
      "--------------------\n",
      "for epoch >> 4\n",
      "--------------------\n",
      "--------------------\n",
      "for epoch >> 5\n",
      "--------------------\n",
      "--------------------\n",
      "for epoch >> 6\n",
      "--------------------\n",
      "--------------------\n",
      "for epoch >> 7\n",
      "--------------------\n",
      "--------------------\n",
      "for epoch >> 8\n",
      "--------------------\n",
      "--------------------\n",
      "for epoch >> 9\n",
      "--------------------\n",
      "predicted value after forward pass: \n",
      "[0 1 1 1]\n",
      "error: \n",
      "0    0\n",
      "1    0\n",
      "2    0\n",
      "3    0\n",
      "Name: y, dtype: int64\n",
      "updated weights after epoch: 10/10: \n",
      "[1.43243803e-04 6.64618384e-05 4.03256008e-05]\n",
      "####################\n",
      "\n",
      "total loss: 0\n",
      "\n"
     ]
    }
   ],
   "source": [
    "X, y = prepare_data(df_OR)\n",
    "\n",
    "ETA = 0.1\n",
    "EPOCHS = 10\n",
    "\n",
    "model_or = Perceptron(eta = ETA, epochs = EPOCHS)\n",
    "model_or.fit(X,y)\n",
    "\n",
    "_ = model_or.total_loss()"
   ]
  },
  {
   "cell_type": "code",
   "execution_count": 47,
   "id": "feb5c35d-7e35-4436-b86a-1b8f37e64bfb",
   "metadata": {},
   "outputs": [],
   "source": [
    "model_or.save(filename = \"or.model\", model_dir = \"model_or\")"
   ]
  },
  {
   "cell_type": "code",
   "execution_count": 48,
   "id": "85b8147a-de1d-4189-9a40-44ff10ead630",
   "metadata": {},
   "outputs": [
    {
     "data": {
      "text/html": [
       "<div>\n",
       "<style scoped>\n",
       "    .dataframe tbody tr th:only-of-type {\n",
       "        vertical-align: middle;\n",
       "    }\n",
       "\n",
       "    .dataframe tbody tr th {\n",
       "        vertical-align: top;\n",
       "    }\n",
       "\n",
       "    .dataframe thead th {\n",
       "        text-align: right;\n",
       "    }\n",
       "</style>\n",
       "<table border=\"1\" class=\"dataframe\">\n",
       "  <thead>\n",
       "    <tr style=\"text-align: right;\">\n",
       "      <th></th>\n",
       "      <th>x1</th>\n",
       "      <th>x2</th>\n",
       "      <th>y</th>\n",
       "    </tr>\n",
       "  </thead>\n",
       "  <tbody>\n",
       "    <tr>\n",
       "      <th>0</th>\n",
       "      <td>0</td>\n",
       "      <td>0</td>\n",
       "      <td>0</td>\n",
       "    </tr>\n",
       "    <tr>\n",
       "      <th>1</th>\n",
       "      <td>0</td>\n",
       "      <td>1</td>\n",
       "      <td>1</td>\n",
       "    </tr>\n",
       "    <tr>\n",
       "      <th>2</th>\n",
       "      <td>1</td>\n",
       "      <td>0</td>\n",
       "      <td>1</td>\n",
       "    </tr>\n",
       "    <tr>\n",
       "      <th>3</th>\n",
       "      <td>1</td>\n",
       "      <td>1</td>\n",
       "      <td>0</td>\n",
       "    </tr>\n",
       "  </tbody>\n",
       "</table>\n",
       "</div>"
      ],
      "text/plain": [
       "   x1  x2  y\n",
       "0   0   0  0\n",
       "1   0   1  1\n",
       "2   1   0  1\n",
       "3   1   1  0"
      ]
     },
     "execution_count": 48,
     "metadata": {},
     "output_type": "execute_result"
    }
   ],
   "source": [
    "XOR = {\n",
    "    \"x1\" : [0,0,1,1],\n",
    "    \"x2\" : [0,1,0,1],\n",
    "    \"y\" : [0,1,1,0]\n",
    "}\n",
    "\n",
    "df_XOR = pd.DataFrame(XOR)\n",
    "\n",
    "df_XOR"
   ]
  },
  {
   "cell_type": "code",
   "execution_count": 50,
   "id": "9c7fab71-4a94-4914-baab-b8257553baf5",
   "metadata": {},
   "outputs": [
    {
     "name": "stdout",
     "output_type": "stream",
     "text": [
      "Initial weights before training: \n",
      "[-1.53385848e-04 -9.09508955e-05 -1.92960912e-05]\n",
      "\n",
      "X with bias: \n",
      "[[ 0.  0. -1.]\n",
      " [ 0.  1. -1.]\n",
      " [ 1.  0. -1.]\n",
      " [ 1.  1. -1.]]\n",
      "--------------------\n",
      "for epoch >> 0\n",
      "--------------------\n",
      "--------------------\n",
      "for epoch >> 1\n",
      "--------------------\n",
      "--------------------\n",
      "for epoch >> 2\n",
      "--------------------\n",
      "--------------------\n",
      "for epoch >> 3\n",
      "--------------------\n",
      "--------------------\n",
      "for epoch >> 4\n",
      "--------------------\n",
      "--------------------\n",
      "for epoch >> 5\n",
      "--------------------\n",
      "--------------------\n",
      "for epoch >> 6\n",
      "--------------------\n",
      "--------------------\n",
      "for epoch >> 7\n",
      "--------------------\n",
      "--------------------\n",
      "for epoch >> 8\n",
      "--------------------\n",
      "--------------------\n",
      "for epoch >> 9\n",
      "--------------------\n",
      "predicted value after forward pass: \n",
      "[1 0 0 0]\n",
      "error: \n",
      "0   -1\n",
      "1    1\n",
      "2    1\n",
      "3    0\n",
      "Name: y, dtype: int64\n",
      "updated weights after epoch: 10/10: \n",
      "[ 0.09984661  0.09990905 -0.1000193 ]\n",
      "####################\n",
      "\n",
      "total loss: 1\n",
      "\n"
     ]
    }
   ],
   "source": [
    "X,y = prepare_data(df_XOR)\n",
    "\n",
    "ETA = 0.1\n",
    "EPOCHS = 10\n",
    "\n",
    "model_xor = Perceptron(eta = ETA, epochs = EPOCHS)\n",
    "model_xor.fit(X,y)\n",
    "\n",
    "_ = model_xor.total_loss()"
   ]
  },
  {
   "cell_type": "code",
   "execution_count": 52,
   "id": "ae7cbcfa-a002-4c25-87d8-717cb0096ac5",
   "metadata": {},
   "outputs": [],
   "source": [
    "def save_plot(df, model, filename = \"plot.png\", plot_dir = \"plots\"):\n",
    "    def _create_base_plot(df):\n",
    "        df.plot(kind = \"scatter\", x = \"x1\", y = \"x2\", c = \"y\", s = 100, cmap = \"coolwarm\")\n",
    "        plt.axhline(y = 0, color = \"black\", linestyle = \"--\", linewidth = 1)\n",
    "        plt.axvline(x = 0, color = \"black\", linestyle = \"--\", linewidth = 1)\n",
    "\n",
    "        figure = plt.gcf()\n",
    "        figure.set_size_inches(10,8)\n",
    "\n",
    "    def _plot_decision_regions(X,y, classifier, resolution = 0.02):\n",
    "        colors = (\"cyan\", \"lightgreen\")\n",
    "        cmap = ListedColormap(colors)\n",
    "\n",
    "        X = X.values\n",
    "        x1 = X[:,0]\n",
    "        x2 = X[:,1]\n",
    "\n",
    "        x1_min, x1_max = x1.min() - 1, x1.max() + 1\n",
    "        x2_min, x2_max = x2.min() - 1, x2.max() + 1\n",
    "\n",
    "        xx1, xx2 = np.meshgrid(np.arange(x1_min, x1_max, resolution),\n",
    "                                np.arange(x2_min, x2_max, resolution)\n",
    "                              )\n",
    "        y_hat = classifier.predict(np.array([xx1.ravel(), xx2.ravel()]).T)\n",
    "        y_hat = y_hat.reshape(xx1.shape)\n",
    "\n",
    "        plt.contourf(xx1, xx2, y_hat, alpha = 0.3, cmap = cmap)\n",
    "        plt.xlim(xx1.min(), xx1.max())\n",
    "        plt.ylim(xx2.min(), xx2.max())\n",
    "\n",
    "        plt.plot()\n",
    "\n",
    "    X, y = prepare_data(df)\n",
    "\n",
    "    _create_base_plot(df)\n",
    "    _plot_decision_regions(X,y, model)\n",
    "\n",
    "    os.makedirs(plot_dir, exist_ok = True)\n",
    "    plot_path = os.path.join(plot_dir, filename)\n",
    "    plt.savefig(plot_path)"
   ]
  },
  {
   "cell_type": "code",
   "execution_count": 53,
   "id": "082cd4aa-4fe5-4271-a618-ff517e6016f0",
   "metadata": {},
   "outputs": [
    {
     "data": {
      "image/png": "[encoded data removed]",
      "text/plain": [
       "<Figure size 1000x800 with 2 Axes>"
      ]
     },
     "metadata": {},
     "output_type": "display_data"
    }
   ],
   "source": [
    "save_plot(df_OR, model_or, filename = \"or.png\")"
   ]
  },
  {
   "cell_type": "code",
   "execution_count": 54,
   "id": "1ef306cc-1d32-4e90-976d-d3e6b312d028",
   "metadata": {},
   "outputs": [
    {
     "data": {
      "image/png": "[encoded data removed]",
      "text/plain": [
       "<Figure size 1000x800 with 2 Axes>"
      ]
     },
     "metadata": {},
     "output_type": "display_data"
    }
   ],
   "source": [
    "save_plot(df_AND, model_and, filename = \"and.png\")"
   ]
  },
  {
   "cell_type": "code",
   "execution_count": 55,
   "id": "eed8ef7d-ecd7-4406-94b8-3fb7e9158961",
   "metadata": {},
   "outputs": [
    {
     "data": {
      "image/png": "[encoded data removed]",
      "text/plain": [
       "<Figure size 1000x800 with 2 Axes>"
      ]
     },
     "metadata": {},
     "output_type": "display_data"
    }
   ],
   "source": [
    "save_plot(df_XOR, model_xor, filename = \"xor.png\")"
   ]
  },
  {
   "cell_type": "code",
   "execution_count": null,
   "id": "1275a969-5524-4724-b0eb-f2a33ee0acd4",
   "metadata": {},
   "outputs": [],
   "source": []
  }
 ],
 "metadata": {
  "kernelspec": {
   "display_name": "Python 3 (ipykernel)",
   "language": "python",
   "name": "python3"
  },
  "language_info": {
   "codemirror_mode": {
    "name": "ipython",
    "version": 3
   },
   "file_extension": ".py",
   "mimetype": "text/x-python",
   "name": "python",
   "nbconvert_exporter": "python",
   "pygments_lexer": "ipython3",
   "version": "3.10.0"
  }
 },
 "nbformat": 4,
 "nbformat_minor": 5
}
